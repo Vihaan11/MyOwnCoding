{
 "cells": [
  {
   "cell_type": "code",
   "execution_count": 2,
   "id": "e17bca4d-9b9e-4bbe-9200-66b74a0769a0",
   "metadata": {},
   "outputs": [],
   "source": [
    "f = open(\"new_file.txt\",'w+')\n",
    "f.write(\"Here is some text\")\n",
    "f.close()"
   ]
  },
  {
   "cell_type": "code",
   "execution_count": 3,
   "id": "cbd51689-a359-4ce6-afdc-14a61a675b3f",
   "metadata": {},
   "outputs": [],
   "source": [
    "f = open(\"new_file2.txt\",'w+')\n",
    "f.write(\"Here is some text\")\n",
    "f.close()"
   ]
  },
  {
   "cell_type": "code",
   "execution_count": 4,
   "id": "3836dfdf-8168-4a21-beb5-f4bdf5e5e138",
   "metadata": {},
   "outputs": [],
   "source": [
    "f = open(\"new_file3.txt\",'w+')\n",
    "f.write(\"Here is some text\")\n",
    "f.close()"
   ]
  },
  {
   "cell_type": "code",
   "execution_count": 5,
   "id": "ef82bb3f-f5c1-44ea-b95d-164095867841",
   "metadata": {},
   "outputs": [],
   "source": [
    "import zipfile"
   ]
  },
  {
   "cell_type": "code",
   "execution_count": 6,
   "id": "7057fb54-9269-4dca-8a8f-d28b47b7040c",
   "metadata": {},
   "outputs": [],
   "source": [
    "comp_file = zipfile.ZipFile('comp_file.zip','w')"
   ]
  },
  {
   "cell_type": "code",
   "execution_count": 7,
   "id": "28c5c33f-20a6-437b-b9a7-ca24defe0c8d",
   "metadata": {},
   "outputs": [],
   "source": [
    "comp_file.write('new_file.txt',compress_type=zipfile.ZIP_DEFLATED)"
   ]
  },
  {
   "cell_type": "code",
   "execution_count": 8,
   "id": "e6770a6e-60ba-4a8b-9b19-e3204a082eb3",
   "metadata": {},
   "outputs": [],
   "source": [
    "comp_file.write('new_file2.txt',compress_type=zipfile.ZIP_DEFLATED)"
   ]
  },
  {
   "cell_type": "code",
   "execution_count": 9,
   "id": "02a949ba-a289-4c34-9425-39754c442916",
   "metadata": {},
   "outputs": [],
   "source": [
    "comp_file.write('new_file3.txt',compress_type=zipfile.ZIP_DEFLATED)"
   ]
  },
  {
   "cell_type": "code",
   "execution_count": 18,
   "id": "d1eb05d9-f8e3-4633-86c4-4cf5c0e9a7ec",
   "metadata": {},
   "outputs": [],
   "source": [
    "comp_file.close()"
   ]
  },
  {
   "cell_type": "markdown",
   "id": "493eca3d-0a54-4b89-a33f-cf2df8113fe1",
   "metadata": {},
   "source": [
    "<h2>Unzipper</h2>"
   ]
  },
  {
   "cell_type": "code",
   "execution_count": 20,
   "id": "b069666e-56c0-4da5-b954-a009e3ecf130",
   "metadata": {},
   "outputs": [],
   "source": [
    "zip_obj = zipfile.ZipFile(\"comp_file.zip\",\"r\")"
   ]
  },
  {
   "cell_type": "code",
   "execution_count": 22,
   "id": "5b5c8767-3bf7-48dc-aa2a-b39cb6b52593",
   "metadata": {},
   "outputs": [],
   "source": [
    "zip_obj.extractall(\"extracted_content\")"
   ]
  },
  {
   "cell_type": "code",
   "execution_count": 30,
   "id": "3f9bb7b6-49e7-460e-8344-6e0e4f3f6d84",
   "metadata": {},
   "outputs": [],
   "source": [
    "import shutil"
   ]
  },
  {
   "cell_type": "code",
   "execution_count": 32,
   "id": "56b8cc8f-a38c-4089-a87e-e752c39a7613",
   "metadata": {},
   "outputs": [
    {
     "data": {
      "text/plain": [
       "'C:\\\\Users\\\\vihaa\\\\PycharmProjects\\\\Complete-Python-3-Bootcamp\\\\My own coding'"
      ]
     },
     "execution_count": 32,
     "metadata": {},
     "output_type": "execute_result"
    }
   ],
   "source": [
    "pwd"
   ]
  },
  {
   "cell_type": "code",
   "execution_count": 34,
   "id": "ef633905-a31d-48fd-9e2a-1b0158cd49e9",
   "metadata": {},
   "outputs": [],
   "source": [
    "path = \"C:\\\\Users\\\\vihaa\\\\PycharmProjects\\\\Complete-Python-3-Bootcamp\\\\My own coding\\\\extracted_content\""
   ]
  },
  {
   "cell_type": "code",
   "execution_count": 38,
   "id": "566c2ce5-13da-4866-8385-83c537015b76",
   "metadata": {},
   "outputs": [],
   "source": [
    "output = \"example\""
   ]
  },
  {
   "cell_type": "code",
   "execution_count": 40,
   "id": "850d1a37-aeeb-4cfe-8bc7-78781e99a759",
   "metadata": {},
   "outputs": [
    {
     "data": {
      "text/plain": [
       "'C:\\\\Users\\\\vihaa\\\\PycharmProjects\\\\Complete-Python-3-Bootcamp\\\\My own coding\\\\example.zip'"
      ]
     },
     "execution_count": 40,
     "metadata": {},
     "output_type": "execute_result"
    }
   ],
   "source": [
    "shutil.make_archive(output,'zip',path)"
   ]
  },
  {
   "cell_type": "code",
   "execution_count": 42,
   "id": "7c057e28-bbe8-43bf-bcdd-2fdc179d8c17",
   "metadata": {},
   "outputs": [],
   "source": [
    "shutil.unpack_archive(\"example.zip\",\"Final_unzip\",\"zip\")"
   ]
  },
  {
   "cell_type": "code",
   "execution_count": null,
   "id": "6d14a418-e856-40a2-a967-aa700e6c9e51",
   "metadata": {},
   "outputs": [],
   "source": []
  }
 ],
 "metadata": {
  "kernelspec": {
   "display_name": "Python 3 (ipykernel)",
   "language": "python",
   "name": "python3"
  },
  "language_info": {
   "codemirror_mode": {
    "name": "ipython",
    "version": 3
   },
   "file_extension": ".py",
   "mimetype": "text/x-python",
   "name": "python",
   "nbconvert_exporter": "python",
   "pygments_lexer": "ipython3",
   "version": "3.11.7"
  }
 },
 "nbformat": 4,
 "nbformat_minor": 5
}
