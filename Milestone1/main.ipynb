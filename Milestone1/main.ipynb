{
 "cells": [
  {
   "cell_type": "code",
   "execution_count": 1,
   "id": "05cf1e21-744c-4510-9bef-f918fafe337a",
   "metadata": {},
   "outputs": [],
   "source": [
    "def display(r1,r2,r3):\n",
    "    print('''         0    1    2\n",
    "         ↓    ↓    ↓''')\n",
    "    print(f\"r1-->  {r1}\")\n",
    "    print(f\"r2-->  {r2}\")\n",
    "    print(f\"r3-->  {r3}\")"
   ]
  },
  {
   "cell_type": "code",
   "execution_count": 2,
   "id": "48be095d-7e9f-4d70-846e-619d301cc744",
   "metadata": {},
   "outputs": [],
   "source": [
    "r1=[' ',' ',' ']\n",
    "r2=[' ',' ',' ']\n",
    "r3=[' ',' ',' ']"
   ]
  },
  {
   "cell_type": "code",
   "execution_count": 3,
   "id": "e00d4a34-eace-4c1e-8762-77a2ccd7622d",
   "metadata": {},
   "outputs": [],
   "source": [
    "def usr_index():\n",
    "    global rowno\n",
    "    global colno\n",
    "    rowno=\"\"\n",
    "    colno=\"\"\n",
    "    while rowno not in ['1','2','3']:\n",
    "        rowno=input(\"Enter a row(1, 2 or 3): \")\n",
    "        if rowno not in ['1','2','3']:\n",
    "            print('Invalid input')\n",
    "    rowno=int(rowno)\n",
    "    while colno not in ['0','1','2']:\n",
    "        colno=input(\"Enter a col(0, 1 or 2): \")\n",
    "        if colno not in ['0','1','2']:\n",
    "            print('Invalid input')\n",
    "    colno=int(colno)"
   ]
  },
  {
   "cell_type": "code",
   "execution_count": 7,
   "id": "07e4c9c3-dd90-4fcc-be9c-cea81fd20da3",
   "metadata": {},
   "outputs": [],
   "source": [
    "def usr_replace(rowno,colno):\n",
    "    while player not in [\"O\",\"X\"]:\n",
    "        player=input(\"O or X : \")\n",
    "        if player not in [\"O\",\"X\"]:\n",
    "            print('Invalid input')\n",
    "    if rowno==1 and r1[colno]=='':\n",
    "        r1[colno]=player\n",
    "    elif rowno==2 and r2[colno]=='':\n",
    "        r2[colno]=player\n",
    "    elif rowno==3 and r3[colno]=='':\n",
    "        r3[colno]=player\n",
    "    else:\n",
    "        print(\"Invalid Input\")"
   ]
  },
  {
   "cell_type": "code",
   "execution_count": 6,
   "id": "8d6f4f95-9d5a-4bf9-b498-7847b26c97b9",
   "metadata": {},
   "outputs": [],
   "source": [
    "xcond1=bool(r1[0]=='X' and r2[1]=='X' and r3[2]=='X') # Conditions for X to win\n",
    "xcond2=bool(r1[2]=='X' and r2[1]=='X' and r3[0]=='X') # Conditions for X to win\n",
    "xcond3=bool(r1[0]=='X' and r2[0]=='X' and r3[0]=='X') # Conditions for X to win\n",
    "xcond4=bool(r1[2]=='X' and r2[1]=='X' and r3[0]=='X') # Conditions for X to win\n",
    "xcond5=bool(r1[2]=='X' and r2[2]=='X' and r3[2]=='X') # Conditions for X to win\n",
    "xcond6=bool(r1==['X','X','X']) # Conditions for X to win\n",
    "xcond7=bool(r2==['X','X','X']) # Conditions for X to win\n",
    "xcond8=bool(r3==['X','X','X']) # Conditions for X to win\n"
   ]
  },
  {
   "cell_type": "code",
   "execution_count": 3,
   "id": "86b7736d-d004-4eda-bd79-d440174da993",
   "metadata": {},
   "outputs": [],
   "source": [
    "def checkwin():\n",
    "    if xcond1 or xcond2 or xcond3 or xcond4 or xcond5 or xcond6 or xcond7 or xcond8:\n",
    "        print(\"X wins!!!\")\n",
    "        exit()\n",
    "    elif ocond1 or ocond2 or ocond3 or ocond4 or ocond5 or ocond6 or ocond7 or ocond8:\n",
    "        print(\"O wins!!!\")\n",
    "        exit()"
   ]
  },
  {
   "cell_type": "code",
   "execution_count": 4,
   "id": "6e49a7c2-5a1e-49e8-8d55-52024b8e1d78",
   "metadata": {},
   "outputs": [
    {
     "name": "stdout",
     "output_type": "stream",
     "text": [
      "\n",
      "O wins!!!\n"
     ]
    }
   ],
   "source": [
    "print(\"\\nO wins!!!\")"
   ]
  },
  {
   "cell_type": "code",
   "execution_count": null,
   "id": "f5049744-6323-4581-bf4f-4753eb7b041b",
   "metadata": {},
   "outputs": [],
   "source": []
  }
 ],
 "metadata": {
  "kernelspec": {
   "display_name": "Python 3 (ipykernel)",
   "language": "python",
   "name": "python3"
  },
  "language_info": {
   "codemirror_mode": {
    "name": "ipython",
    "version": 3
   },
   "file_extension": ".py",
   "mimetype": "text/x-python",
   "name": "python",
   "nbconvert_exporter": "python",
   "pygments_lexer": "ipython3",
   "version": "3.11.7"
  }
 },
 "nbformat": 4,
 "nbformat_minor": 5
}
