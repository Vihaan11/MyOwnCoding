{
 "cells": [
  {
   "cell_type": "code",
   "execution_count": 1,
   "id": "20ee0ee2-58ea-4177-8da3-088c3a4c4f9f",
   "metadata": {},
   "outputs": [],
   "source": [
    "def func1(n):\n",
    "    return [str(num) for num in range(n)]"
   ]
  },
  {
   "cell_type": "code",
   "execution_count": 3,
   "id": "65fae319-e7c7-4618-a4dd-59f8e5ecf074",
   "metadata": {},
   "outputs": [
    {
     "data": {
      "text/plain": [
       "['0', '1', '2', '3', '4', '5', '6', '7', '8', '9']"
      ]
     },
     "execution_count": 3,
     "metadata": {},
     "output_type": "execute_result"
    }
   ],
   "source": [
    "func1(10)"
   ]
  },
  {
   "cell_type": "code",
   "execution_count": 5,
   "id": "eae5b441-9b52-4393-9bc3-bd4a8fa8b00d",
   "metadata": {},
   "outputs": [],
   "source": [
    "def func2(n):\n",
    "    return list(map(str,range(n)))"
   ]
  },
  {
   "cell_type": "code",
   "execution_count": 7,
   "id": "4e306f4c-ae2d-425e-a699-dab431588cfa",
   "metadata": {},
   "outputs": [
    {
     "data": {
      "text/plain": [
       "['0', '1', '2', '3', '4', '5', '6', '7', '8', '9']"
      ]
     },
     "execution_count": 7,
     "metadata": {},
     "output_type": "execute_result"
    }
   ],
   "source": [
    "func2(10)"
   ]
  },
  {
   "cell_type": "code",
   "execution_count": 9,
   "id": "973669e0-07c2-4088-aaf4-203dae7d8ae8",
   "metadata": {},
   "outputs": [],
   "source": [
    "import time"
   ]
  },
  {
   "cell_type": "code",
   "execution_count": 11,
   "id": "23d44975-92b2-4889-8b41-6ce8630d8369",
   "metadata": {},
   "outputs": [],
   "source": [
    "start_time=time.time()\n",
    "result=func1(1000000)\n",
    "end_time=time.time()\n",
    "\n",
    "elapsed_time=end_time-start_time"
   ]
  },
  {
   "cell_type": "code",
   "execution_count": 13,
   "id": "ca0a89a6-eb3e-402b-b7f0-0891ffdba0f3",
   "metadata": {},
   "outputs": [
    {
     "data": {
      "text/plain": [
       "0.08959507942199707"
      ]
     },
     "execution_count": 13,
     "metadata": {},
     "output_type": "execute_result"
    }
   ],
   "source": [
    "elapsed_time"
   ]
  },
  {
   "cell_type": "code",
   "execution_count": 15,
   "id": "4522d559-6d19-4e98-b895-f8a133717d3c",
   "metadata": {},
   "outputs": [],
   "source": [
    "start_time=time.time()\n",
    "result=func2(1000000)\n",
    "end_time=time.time()\n",
    "\n",
    "elapsed_time=end_time-start_time"
   ]
  },
  {
   "cell_type": "code",
   "execution_count": 17,
   "id": "2d241598-19cb-47b9-a44d-69f9ea54c4b6",
   "metadata": {},
   "outputs": [
    {
     "data": {
      "text/plain": [
       "0.11955428123474121"
      ]
     },
     "execution_count": 17,
     "metadata": {},
     "output_type": "execute_result"
    }
   ],
   "source": [
    "elapsed_time"
   ]
  },
  {
   "cell_type": "markdown",
   "id": "3714ad5d-8f89-40d8-99ab-4b1a158f34b7",
   "metadata": {},
   "source": [
    "\" 100;\r\n",
    "}\n",
    ">\n",
    "\n",
    "<h3>TimeIT Module</h3>"
   ]
  },
  {
   "cell_type": "code",
   "execution_count": 20,
   "id": "aea758a4-a64a-4f99-8938-90a8babc1331",
   "metadata": {},
   "outputs": [],
   "source": [
    "import timeit"
   ]
  },
  {
   "cell_type": "code",
   "execution_count": 38,
   "id": "24a732ac-f091-4050-81a3-99fb4236a419",
   "metadata": {},
   "outputs": [],
   "source": [
    "stmt = \"\"\"\n",
    "func2(10)\n",
    "\"\"\""
   ]
  },
  {
   "cell_type": "code",
   "execution_count": 36,
   "id": "33fe017e-8d18-4917-90f7-b14ad76e9521",
   "metadata": {},
   "outputs": [],
   "source": [
    "setup = \"\"\"\n",
    "def func2(n):\n",
    "    return list(map(str,range(n)))\n",
    "\"\"\""
   ]
  },
  {
   "cell_type": "code",
   "execution_count": 40,
   "id": "55a22b99-8697-46ae-9607-58a7614d76cc",
   "metadata": {},
   "outputs": [],
   "source": [
    "res2=timeit.timeit(stmt,setup,number=100000)"
   ]
  },
  {
   "cell_type": "code",
   "execution_count": 42,
   "id": "50c7b882-e83a-419b-8431-dff33a1d749c",
   "metadata": {},
   "outputs": [
    {
     "data": {
      "text/plain": [
       "0.0932598999934271"
      ]
     },
     "execution_count": 42,
     "metadata": {},
     "output_type": "execute_result"
    }
   ],
   "source": [
    "res1"
   ]
  },
  {
   "cell_type": "code",
   "execution_count": 44,
   "id": "6623dd58-0f00-48df-afbe-601f991dac89",
   "metadata": {},
   "outputs": [
    {
     "data": {
      "text/plain": [
       "0.11757280002348125"
      ]
     },
     "execution_count": 44,
     "metadata": {},
     "output_type": "execute_result"
    }
   ],
   "source": [
    "res2"
   ]
  },
  {
   "cell_type": "code",
   "execution_count": null,
   "id": "bb41ba0a-37fe-4bfb-a044-b6c6fb8b9345",
   "metadata": {},
   "outputs": [],
   "source": []
  }
 ],
 "metadata": {
  "kernelspec": {
   "display_name": "Python 3 (ipykernel)",
   "language": "python",
   "name": "python3"
  },
  "language_info": {
   "codemirror_mode": {
    "name": "ipython",
    "version": 3
   },
   "file_extension": ".py",
   "mimetype": "text/x-python",
   "name": "python",
   "nbconvert_exporter": "python",
   "pygments_lexer": "ipython3",
   "version": "3.11.7"
  }
 },
 "nbformat": 4,
 "nbformat_minor": 5
}
