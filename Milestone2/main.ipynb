{
 "cells": [
  {
   "cell_type": "code",
   "execution_count": 1,
   "id": "33cfdacf-5f7b-49e4-94d8-97b1152804c1",
   "metadata": {},
   "outputs": [],
   "source": [
    "import random"
   ]
  },
  {
   "cell_type": "code",
   "execution_count": 2,
   "id": "67f394ac-cb00-4c27-ad34-17e5898fb834",
   "metadata": {},
   "outputs": [],
   "source": [
    "suits = ('Hearts', 'Diamonds', 'Spades', 'Clubs')\n",
    "ranks = ('Two', 'Three', 'Four', 'Five', 'Six', 'Seven', 'Eight', 'Nine', 'Ten', 'Jack', 'Queen', 'King', 'Ace')\n",
    "values = {'Two': 2, 'Three': 3, 'Four': 4, 'Five': 5, 'Six': 6, 'Seven': 7, 'Eight': 8,\n",
    "          'Nine': 9, 'Ten': 10, 'Jack': 11, 'Queen': 12, 'King': 13, 'Ace': 14}"
   ]
  },
  {
   "cell_type": "code",
   "execution_count": 3,
   "id": "96ba4103-7d61-4bbf-a292-8b4b91405877",
   "metadata": {},
   "outputs": [],
   "source": [
    "class Card:\n",
    "\n",
    "    def __init__(self, suit, rank):\n",
    "        self.suit = suit\n",
    "        self.rank = rank\n",
    "        self.value = values[rank]\n",
    "\n",
    "    def __str__(self):\n",
    "        return f\"{self.rank} of {self.suit}\""
   ]
  },
  {
   "cell_type": "code",
   "execution_count": 4,
   "id": "3ec66359-ce36-4b12-a65a-c7ae24ebd369",
   "metadata": {},
   "outputs": [],
   "source": [
    "class Deck:\n",
    "    def __init__(self):\n",
    "        self.all_cards = []\n",
    "        for suit0 in suits:\n",
    "            for rank0 in ranks:\n",
    "                # Create the card object\n",
    "                created_card=Card(suit0, rank0)\n",
    "                self.all_cards.append(created_card)\n",
    "    def shuffle_deck(self):\n",
    "        random.shuffle(self.all_cards)\n",
    "    def get_one(self):\n",
    "        return self.all_cards.pop()"
   ]
  },
  {
   "cell_type": "code",
   "execution_count": 5,
   "id": "17f46a2a-681b-4d12-b11f-89756582e30f",
   "metadata": {},
   "outputs": [],
   "source": [
    "new_deck=Deck()"
   ]
  },
  {
   "cell_type": "code",
   "execution_count": 6,
   "id": "0347ad5e-2a5f-43a3-bd12-30f9f5c78b52",
   "metadata": {},
   "outputs": [
    {
     "data": {
      "text/plain": [
       "[<__main__.Card at 0x260ae2d4ad0>,\n",
       " <__main__.Card at 0x260ae2cd850>,\n",
       " <__main__.Card at 0x260ae2f4510>,\n",
       " <__main__.Card at 0x260ae2f6e10>,\n",
       " <__main__.Card at 0x260ae2f4210>,\n",
       " <__main__.Card at 0x260ae2f4a90>,\n",
       " <__main__.Card at 0x260ae2f41d0>,\n",
       " <__main__.Card at 0x260ae2f49d0>,\n",
       " <__main__.Card at 0x260ae2f4c50>,\n",
       " <__main__.Card at 0x260ae2f4890>,\n",
       " <__main__.Card at 0x260ae2f4d10>,\n",
       " <__main__.Card at 0x260ae2f4110>,\n",
       " <__main__.Card at 0x260ae2f4e90>,\n",
       " <__main__.Card at 0x260ae2f40d0>,\n",
       " <__main__.Card at 0x260ae2f5050>,\n",
       " <__main__.Card at 0x260ae2f5a90>,\n",
       " <__main__.Card at 0x260ae2f51d0>,\n",
       " <__main__.Card at 0x260ae2f5290>,\n",
       " <__main__.Card at 0x260ae2f52d0>,\n",
       " <__main__.Card at 0x260ae2f5490>,\n",
       " <__main__.Card at 0x260ae2f5410>,\n",
       " <__main__.Card at 0x260ae2f5690>,\n",
       " <__main__.Card at 0x260ae2f5350>,\n",
       " <__main__.Card at 0x260ae2f5890>,\n",
       " <__main__.Card at 0x260ae2f57d0>,\n",
       " <__main__.Card at 0x260ae2f5a10>,\n",
       " <__main__.Card at 0x260ae2f5b10>,\n",
       " <__main__.Card at 0x260ae2f5b50>,\n",
       " <__main__.Card at 0x260ae2f5d10>,\n",
       " <__main__.Card at 0x260ae2f5c90>,\n",
       " <__main__.Card at 0x260ae2f5f10>,\n",
       " <__main__.Card at 0x260ae2f4190>,\n",
       " <__main__.Card at 0x260ae2f7690>,\n",
       " <__main__.Card at 0x260ae2f78d0>,\n",
       " <__main__.Card at 0x260ae2f5d90>,\n",
       " <__main__.Card at 0x260ae2f60d0>,\n",
       " <__main__.Card at 0x260ae2f6110>,\n",
       " <__main__.Card at 0x260ae2f6350>,\n",
       " <__main__.Card at 0x260ae2f6450>,\n",
       " <__main__.Card at 0x260ae2f6490>,\n",
       " <__main__.Card at 0x260ae2f6650>,\n",
       " <__main__.Card at 0x260ae2f65d0>,\n",
       " <__main__.Card at 0x260ae2f6950>,\n",
       " <__main__.Card at 0x260ae2f61d0>,\n",
       " <__main__.Card at 0x260ae2f6250>,\n",
       " <__main__.Card at 0x260ae2f6a10>,\n",
       " <__main__.Card at 0x260ae2f6ad0>,\n",
       " <__main__.Card at 0x260ae2f6b10>,\n",
       " <__main__.Card at 0x260ae2f6cd0>,\n",
       " <__main__.Card at 0x260ae2f6c50>,\n",
       " <__main__.Card at 0x260ae2f6e50>,\n",
       " <__main__.Card at 0x260ae2f6550>]"
      ]
     },
     "execution_count": 6,
     "metadata": {},
     "output_type": "execute_result"
    }
   ],
   "source": [
    "new_deck.all_cards"
   ]
  },
  {
   "cell_type": "code",
   "execution_count": 7,
   "id": "15835a99-1313-4bbb-bf2b-67b5ddf3bc34",
   "metadata": {},
   "outputs": [
    {
     "data": {
      "text/plain": [
       "<__main__.Card at 0x260ae2f6550>"
      ]
     },
     "execution_count": 7,
     "metadata": {},
     "output_type": "execute_result"
    }
   ],
   "source": [
    "new_deck.all_cards[-1]"
   ]
  },
  {
   "cell_type": "code",
   "execution_count": 8,
   "id": "122e4e8e-da3b-43a3-b86b-253f7e2af5b4",
   "metadata": {},
   "outputs": [
    {
     "name": "stdout",
     "output_type": "stream",
     "text": [
      "Ace of Clubs\n"
     ]
    }
   ],
   "source": [
    "print(new_deck.all_cards[-1])"
   ]
  },
  {
   "cell_type": "code",
   "execution_count": 9,
   "id": "84b76856-fb6b-4460-bc02-ca4427da036c",
   "metadata": {},
   "outputs": [
    {
     "name": "stdout",
     "output_type": "stream",
     "text": [
      "Two of Hearts\n"
     ]
    }
   ],
   "source": [
    "print(new_deck.all_cards[0])"
   ]
  },
  {
   "cell_type": "code",
   "execution_count": 10,
   "id": "36ca7ac8-c640-4633-9557-b3f12bdb3253",
   "metadata": {},
   "outputs": [],
   "source": [
    "new_deck.shuffle_deck()"
   ]
  },
  {
   "cell_type": "code",
   "execution_count": 11,
   "id": "ec65cefc-8a0c-4ce8-bd30-95f4d5e4b9c1",
   "metadata": {},
   "outputs": [
    {
     "name": "stdout",
     "output_type": "stream",
     "text": [
      "Queen of Spades\n"
     ]
    }
   ],
   "source": [
    "print(new_deck.all_cards[0])"
   ]
  },
  {
   "cell_type": "code",
   "execution_count": 12,
   "id": "03243243-b7f3-4db6-a53b-d00a9a4c6ea4",
   "metadata": {},
   "outputs": [
    {
     "name": "stdout",
     "output_type": "stream",
     "text": [
      "Seven of Diamonds\n"
     ]
    }
   ],
   "source": [
    "print(new_deck.all_cards[-1])"
   ]
  },
  {
   "cell_type": "code",
   "execution_count": 13,
   "id": "86c108ae-b0d3-4862-a0b5-7c233febfa12",
   "metadata": {},
   "outputs": [
    {
     "data": {
      "text/plain": [
       "'Seven'"
      ]
     },
     "execution_count": 13,
     "metadata": {},
     "output_type": "execute_result"
    }
   ],
   "source": [
    "new_deck.all_cards[-1].rank"
   ]
  },
  {
   "cell_type": "code",
   "execution_count": 14,
   "id": "d3623ed7-5b93-4cee-abd5-1d8086527bf7",
   "metadata": {},
   "outputs": [
    {
     "data": {
      "text/plain": [
       "7"
      ]
     },
     "execution_count": 14,
     "metadata": {},
     "output_type": "execute_result"
    }
   ],
   "source": [
    "new_deck.all_cards[-1].value"
   ]
  },
  {
   "cell_type": "code",
   "execution_count": 18,
   "id": "72e24d94-c346-4dd0-bb2a-25cc6e4f4e26",
   "metadata": {},
   "outputs": [],
   "source": [
    "class Player:\n",
    "    def __init__(self, name):\n",
    "        self.name = name\n",
    "        self.my_cards = []\n",
    "\n",
    "    def __str__(self):\n",
    "        return f\"Player {self.name} has {len(self.my_cards)} cards\"\n",
    "\n",
    "    def remove_one(self):\n",
    "        return self.my_cards.pop(0)\n",
    "\n",
    "    def add_one(self, new_cards):\n",
    "        if type(new_cards) == type([]):\n",
    "            self.my_cards.extend(new_cards)\n",
    "        else:\n",
    "            self.my_cards.append(new_cards)"
   ]
  },
  {
   "cell_type": "code",
   "execution_count": 19,
   "id": "22333380-5958-4d78-b27d-d70925e3371c",
   "metadata": {},
   "outputs": [],
   "source": [
    "card=Card(\"Spades\", \"Six\")"
   ]
  },
  {
   "cell_type": "code",
   "execution_count": 20,
   "id": "5a930804-ec7e-40a7-a4ab-2731f21327f6",
   "metadata": {},
   "outputs": [],
   "source": [
    "player=Player(\"Vihaan\")"
   ]
  },
  {
   "cell_type": "code",
   "execution_count": 21,
   "id": "925bbfa9-74ae-42c1-ba80-e2b11e97167f",
   "metadata": {},
   "outputs": [],
   "source": [
    "player.add_one(card)"
   ]
  },
  {
   "cell_type": "code",
   "execution_count": 22,
   "id": "eb794979-113d-4ae7-a3ba-000d7afb8126",
   "metadata": {},
   "outputs": [
    {
     "name": "stdout",
     "output_type": "stream",
     "text": [
      "Player Vihaan has 1 cards\n"
     ]
    }
   ],
   "source": [
    "print(player)"
   ]
  },
  {
   "cell_type": "code",
   "execution_count": 23,
   "id": "f96c909d-6d2f-4ba2-a7bd-a086ac3d2862",
   "metadata": {},
   "outputs": [],
   "source": [
    "listcards=[Card(\"Spades\", \"Six\"), Card(\"Hearts\", \"Ace\")]"
   ]
  },
  {
   "cell_type": "code",
   "execution_count": 25,
   "id": "bca3b329-deed-44c2-93b1-1fc0d3a08bcb",
   "metadata": {},
   "outputs": [],
   "source": [
    "player.add_one(listcards)"
   ]
  },
  {
   "cell_type": "code",
   "execution_count": 26,
   "id": "5461be8e-e318-4fbd-b6ed-5ce6f14b384a",
   "metadata": {},
   "outputs": [
    {
     "name": "stdout",
     "output_type": "stream",
     "text": [
      "Player Vihaan has 3 cards\n"
     ]
    }
   ],
   "source": [
    "print(player)"
   ]
  },
  {
   "cell_type": "code",
   "execution_count": 33,
   "id": "68077a36-1af9-41f5-9c4c-af38fe841228",
   "metadata": {},
   "outputs": [
    {
     "name": "stdout",
     "output_type": "stream",
     "text": [
      "[<__main__.Card object at 0x00000260AEA95490>, <__main__.Card object at 0x00000260AEAC7990>, <__main__.Card object at 0x00000260AEAC7390>]\n"
     ]
    }
   ],
   "source": [
    "print(player.my_cards[::])"
   ]
  },
  {
   "cell_type": "code",
   "execution_count": null,
   "id": "ec042426-230f-4b37-8813-981cd4948cc9",
   "metadata": {},
   "outputs": [],
   "source": []
  }
 ],
 "metadata": {
  "kernelspec": {
   "display_name": "Python 3 (ipykernel)",
   "language": "python",
   "name": "python3"
  },
  "language_info": {
   "codemirror_mode": {
    "name": "ipython",
    "version": 3
   },
   "file_extension": ".py",
   "mimetype": "text/x-python",
   "name": "python",
   "nbconvert_exporter": "python",
   "pygments_lexer": "ipython3",
   "version": "3.11.7"
  }
 },
 "nbformat": 4,
 "nbformat_minor": 5
}
