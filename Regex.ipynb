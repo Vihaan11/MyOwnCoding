{
 "cells": [
  {
   "cell_type": "code",
   "execution_count": 36,
   "id": "325d500b-556a-44bd-ac90-7ff3c2ed8298",
   "metadata": {},
   "outputs": [],
   "source": [
    "text = \"The agent's phone number is (408)-555-1234. Call soon!\""
   ]
  },
  {
   "cell_type": "code",
   "execution_count": 3,
   "id": "279b6d1f-9941-41e1-8da9-027bdc181e0d",
   "metadata": {},
   "outputs": [
    {
     "data": {
      "text/plain": [
       "True"
      ]
     },
     "execution_count": 3,
     "metadata": {},
     "output_type": "execute_result"
    }
   ],
   "source": [
    "\"phone\" in text"
   ]
  },
  {
   "cell_type": "code",
   "execution_count": 4,
   "id": "f7467e9b-b788-41c5-920b-c4174cea3c43",
   "metadata": {},
   "outputs": [],
   "source": [
    "import re"
   ]
  },
  {
   "cell_type": "code",
   "execution_count": 5,
   "id": "755cc640-fcf2-4220-8c8f-365b94248a6b",
   "metadata": {},
   "outputs": [],
   "source": [
    "pattern='phone'"
   ]
  },
  {
   "cell_type": "code",
   "execution_count": 6,
   "id": "20214c75-fbb1-4630-a1c3-993288684bdc",
   "metadata": {},
   "outputs": [],
   "source": [
    "match = re.search(pattern,text)"
   ]
  },
  {
   "cell_type": "code",
   "execution_count": 7,
   "id": "65ff97bc-0138-4450-bf37-7ebe19eaa697",
   "metadata": {},
   "outputs": [
    {
     "data": {
      "text/plain": [
       "<re.Match object; span=(12, 17), match='phone'>"
      ]
     },
     "execution_count": 7,
     "metadata": {},
     "output_type": "execute_result"
    }
   ],
   "source": [
    "match"
   ]
  },
  {
   "cell_type": "code",
   "execution_count": 8,
   "id": "0ceee33a-d537-4750-ba74-88daa20a8030",
   "metadata": {},
   "outputs": [
    {
     "data": {
      "text/plain": [
       "(12, 17)"
      ]
     },
     "execution_count": 8,
     "metadata": {},
     "output_type": "execute_result"
    }
   ],
   "source": [
    "match.span()"
   ]
  },
  {
   "cell_type": "code",
   "execution_count": 9,
   "id": "6b514af3-3522-443f-b825-72c257460ae9",
   "metadata": {},
   "outputs": [
    {
     "data": {
      "text/plain": [
       "\"The agent's phone number is (408)-555-1234. Call soon!\""
      ]
     },
     "execution_count": 9,
     "metadata": {},
     "output_type": "execute_result"
    }
   ],
   "source": [
    "match.string"
   ]
  },
  {
   "cell_type": "code",
   "execution_count": 10,
   "id": "16d76d5b-c8f9-49dd-b01d-498e4a25df0c",
   "metadata": {},
   "outputs": [
    {
     "name": "stdout",
     "output_type": "stream",
     "text": [
      "The agent's phone number is (408)-555-1234. Call soon!\n"
     ]
    }
   ],
   "source": [
    "print(match.string)"
   ]
  },
  {
   "cell_type": "code",
   "execution_count": 11,
   "id": "788577b1-3c59-48a2-a43c-86864d332929",
   "metadata": {},
   "outputs": [],
   "source": [
    "text = \"my phone is phone\""
   ]
  },
  {
   "cell_type": "code",
   "execution_count": 12,
   "id": "1c2afc28-0164-46dc-af8c-94faca595653",
   "metadata": {},
   "outputs": [],
   "source": [
    "match = re.search(pattern,text)"
   ]
  },
  {
   "cell_type": "code",
   "execution_count": 13,
   "id": "09a7a3d2-3d9d-4270-8776-fd45a23ab24d",
   "metadata": {},
   "outputs": [
    {
     "data": {
      "text/plain": [
       "<re.Match object; span=(3, 8), match='phone'>"
      ]
     },
     "execution_count": 13,
     "metadata": {},
     "output_type": "execute_result"
    }
   ],
   "source": [
    "match"
   ]
  },
  {
   "cell_type": "code",
   "execution_count": 14,
   "id": "f6cece7a-4705-459c-8d68-3ea86acadbef",
   "metadata": {},
   "outputs": [],
   "source": [
    "match = re.findall('phone',text)"
   ]
  },
  {
   "cell_type": "code",
   "execution_count": 15,
   "id": "bb59ac79-c01c-4604-bb60-a5c61f04a8eb",
   "metadata": {},
   "outputs": [
    {
     "data": {
      "text/plain": [
       "['phone', 'phone']"
      ]
     },
     "execution_count": 15,
     "metadata": {},
     "output_type": "execute_result"
    }
   ],
   "source": [
    "match"
   ]
  },
  {
   "cell_type": "code",
   "execution_count": 16,
   "id": "ba3af4d9-ff35-40c0-bc6f-cca7689592fa",
   "metadata": {},
   "outputs": [
    {
     "name": "stdout",
     "output_type": "stream",
     "text": [
      "<re.Match object; span=(3, 8), match='phone'>\n",
      "<re.Match object; span=(12, 17), match='phone'>\n"
     ]
    }
   ],
   "source": [
    "for match in re.finditer('phone',text):\n",
    "    print(match)"
   ]
  },
  {
   "cell_type": "markdown",
   "id": "8b7f6791-67d4-4242-8e0e-ff8a9418ffc7",
   "metadata": {},
   "source": [
    "<h2>Patterns</h2>"
   ]
  },
  {
   "cell_type": "code",
   "execution_count": 38,
   "id": "af44321b-82ce-46f1-a0a7-0b348220ef17",
   "metadata": {},
   "outputs": [
    {
     "data": {
      "text/plain": [
       "\"The agent's phone number is (408)-555-1234. Call soon!\""
      ]
     },
     "execution_count": 38,
     "metadata": {},
     "output_type": "execute_result"
    }
   ],
   "source": [
    "text"
   ]
  },
  {
   "cell_type": "code",
   "execution_count": 46,
   "id": "c2f2b510-e004-494a-871a-383e46653702",
   "metadata": {},
   "outputs": [
    {
     "data": {
      "text/plain": [
       "<re.Match object; span=(12, 24), match='408-555-1234'>"
      ]
     },
     "execution_count": 46,
     "metadata": {},
     "output_type": "execute_result"
    }
   ],
   "source": [
    "re.search(r\"\\d\\d\\d-\\d\\d\\d-\\d\\d\\d\\d\",text)"
   ]
  },
  {
   "cell_type": "code",
   "execution_count": 44,
   "id": "d19a3b9e-a579-4593-9dee-2a3ec894334a",
   "metadata": {},
   "outputs": [],
   "source": [
    "text=\"Telephone : 408-555-1234\""
   ]
  },
  {
   "cell_type": "code",
   "execution_count": 50,
   "id": "209698b8-91e0-4aff-ac49-344363603be8",
   "metadata": {},
   "outputs": [],
   "source": [
    "phone=re.search(r\"\\d{3}-\\d{3}-\\d{4}\",text)"
   ]
  },
  {
   "cell_type": "code",
   "execution_count": 52,
   "id": "c36ecf24-f99e-4890-abad-1f08085a3c33",
   "metadata": {},
   "outputs": [
    {
     "data": {
      "text/plain": [
       "<re.Match object; span=(12, 24), match='408-555-1234'>"
      ]
     },
     "execution_count": 52,
     "metadata": {},
     "output_type": "execute_result"
    }
   ],
   "source": [
    "phone"
   ]
  },
  {
   "cell_type": "code",
   "execution_count": 54,
   "id": "a3a214f4-94b9-498d-a820-8580e9c64a50",
   "metadata": {},
   "outputs": [],
   "source": [
    "phone_pattern = re.compile(r\"(\\d{3})-(\\d{3})-(\\d{4})\")"
   ]
  },
  {
   "cell_type": "code",
   "execution_count": 56,
   "id": "e2835c25-06df-4350-8f1c-b04b8f6fbf93",
   "metadata": {},
   "outputs": [],
   "source": [
    "phone=re.search(phone_pattern,text)"
   ]
  },
  {
   "cell_type": "code",
   "execution_count": 58,
   "id": "594e5465-a5cf-4bd5-b489-7993c97a00a5",
   "metadata": {},
   "outputs": [
    {
     "data": {
      "text/plain": [
       "<re.Match object; span=(12, 24), match='408-555-1234'>"
      ]
     },
     "execution_count": 58,
     "metadata": {},
     "output_type": "execute_result"
    }
   ],
   "source": [
    "phone"
   ]
  },
  {
   "cell_type": "code",
   "execution_count": 60,
   "id": "0d6426c7-ab9b-4563-be24-52f00c488cc1",
   "metadata": {},
   "outputs": [
    {
     "data": {
      "text/plain": [
       "'555'"
      ]
     },
     "execution_count": 60,
     "metadata": {},
     "output_type": "execute_result"
    }
   ],
   "source": [
    "phone.group(2)"
   ]
  },
  {
   "cell_type": "markdown",
   "id": "8eaa5a63-6131-4ea5-875e-c2238ad6bb80",
   "metadata": {},
   "source": [
    "<h2>Additional Regex Syntax</h2>"
   ]
  },
  {
   "cell_type": "code",
   "execution_count": 65,
   "id": "52d3ab37-c4b6-4a69-a3fe-38eca5af8695",
   "metadata": {},
   "outputs": [
    {
     "data": {
      "text/plain": [
       "<re.Match object; span=(4, 7), match='cat'>"
      ]
     },
     "execution_count": 65,
     "metadata": {},
     "output_type": "execute_result"
    }
   ],
   "source": [
    "re.search(\"cat|dog\",\"The cat is here\")"
   ]
  },
  {
   "cell_type": "code",
   "execution_count": 71,
   "id": "cec48cf1-38ab-4e3a-ae7e-e68023048cb3",
   "metadata": {},
   "outputs": [
    {
     "data": {
      "text/plain": [
       "['cat', 'sat', 'hat']"
      ]
     },
     "execution_count": 71,
     "metadata": {},
     "output_type": "execute_result"
    }
   ],
   "source": [
    "re.findall(r\".at\",\"The cat sat with the hat\")"
   ]
  },
  {
   "cell_type": "code",
   "execution_count": 87,
   "id": "e076f146-51e6-43e8-8567-001c8e12abc6",
   "metadata": {},
   "outputs": [
    {
     "data": {
      "text/plain": [
       "['3']"
      ]
     },
     "execution_count": 87,
     "metadata": {},
     "output_type": "execute_result"
    }
   ],
   "source": [
    "re.findall(r\"\\d$\",\"2 is a number and so is 3\")"
   ]
  },
  {
   "cell_type": "raw",
   "id": "b1e12703-d516-484e-9d6d-3b586d4e1cc4",
   "metadata": {},
   "source": []
  },
  {
   "cell_type": "raw",
   "id": "cb72e916-eecf-400f-8788-d32b6a6e53dd",
   "metadata": {},
   "source": []
  },
  {
   "cell_type": "raw",
   "id": "e584dfb9-ef49-46f2-961d-89709fc90992",
   "metadata": {},
   "source": []
  },
  {
   "cell_type": "raw",
   "id": "167fd7ef-a6ce-49be-9802-a29d13706c89",
   "metadata": {},
   "source": []
  },
  {
   "cell_type": "raw",
   "id": "2aff7027-e568-495f-ab5a-01c73ab38442",
   "metadata": {},
   "source": []
  },
  {
   "cell_type": "code",
   "execution_count": 94,
   "id": "fb00ca9b-a578-4a8e-96d6-327f1f558bef",
   "metadata": {},
   "outputs": [],
   "source": [
    "phrase = \"There are 3 numbers inside 5 this sentence\""
   ]
  },
  {
   "cell_type": "code",
   "execution_count": 106,
   "id": "193f5d74-594e-4587-b77a-e91e30f88cb6",
   "metadata": {},
   "outputs": [],
   "source": [
    "pattern = r\"[^\\d]+\""
   ]
  },
  {
   "cell_type": "code",
   "execution_count": 108,
   "id": "47defb4d-1464-4202-ab4e-d93cceecc5f2",
   "metadata": {},
   "outputs": [
    {
     "data": {
      "text/plain": [
       "['There are ', ' numbers inside ', ' this sentence']"
      ]
     },
     "execution_count": 108,
     "metadata": {},
     "output_type": "execute_result"
    }
   ],
   "source": [
    "re.findall(pattern,phrase)"
   ]
  },
  {
   "cell_type": "code",
   "execution_count": null,
   "id": "a421f3a4-7d16-453b-b37a-335ce57760e7",
   "metadata": {},
   "outputs": [],
   "source": []
  }
 ],
 "metadata": {
  "kernelspec": {
   "display_name": "Python 3 (ipykernel)",
   "language": "python",
   "name": "python3"
  },
  "language_info": {
   "codemirror_mode": {
    "name": "ipython",
    "version": 3
   },
   "file_extension": ".py",
   "mimetype": "text/x-python",
   "name": "python",
   "nbconvert_exporter": "python",
   "pygments_lexer": "ipython3",
   "version": "3.11.7"
  }
 },
 "nbformat": 4,
 "nbformat_minor": 5
}
