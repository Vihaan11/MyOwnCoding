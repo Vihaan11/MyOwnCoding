{
 "cells": [
  {
   "cell_type": "code",
   "execution_count": 1,
   "id": "ec4eada8-23be-4c9d-b53b-1d26323efa73",
   "metadata": {},
   "outputs": [],
   "source": [
    "mylist=[1,2,3,4,5]"
   ]
  },
  {
   "cell_type": "code",
   "execution_count": 2,
   "id": "5f74709f-761c-4314-9743-82959b27b7e4",
   "metadata": {},
   "outputs": [],
   "source": [
    "myset=set()"
   ]
  },
  {
   "cell_type": "code",
   "execution_count": 3,
   "id": "cd3a5878-3889-441d-818f-8e2aa57e9d5e",
   "metadata": {},
   "outputs": [
    {
     "data": {
      "text/plain": [
       "list"
      ]
     },
     "execution_count": 3,
     "metadata": {},
     "output_type": "execute_result"
    }
   ],
   "source": [
    "type(mylist)"
   ]
  },
  {
   "cell_type": "code",
   "execution_count": 4,
   "id": "e87b08e7-8b52-40f5-b356-270184ae99af",
   "metadata": {},
   "outputs": [
    {
     "data": {
      "text/plain": [
       "set"
      ]
     },
     "execution_count": 4,
     "metadata": {},
     "output_type": "execute_result"
    }
   ],
   "source": [
    "type(myset)"
   ]
  },
  {
   "cell_type": "markdown",
   "id": "cf966b6d",
   "metadata": {},
   "source": [
    "<h1>Basics of OOP</h1>"
   ]
  },
  {
   "cell_type": "code",
   "execution_count": 5,
   "id": "f437d6c2",
   "metadata": {},
   "outputs": [],
   "source": [
    "class Dog():\n",
    "    def __init__(self,breed,name,age,gender,color,weight,height,spots,bark_volume):\n",
    "        self.breed=breed\n",
    "        self.name=name\n",
    "        self.age=age\n",
    "        self.gender=gender\n",
    "        self.color=color\n",
    "        self.weight=weight\n",
    "        self.height=height\n",
    "        self.spots=spots    # Expecting a Boolean\n",
    "        self.bark_volume=bark_volume\n",
    "\n",
    "    def bark(self):\n",
    "        print(f\"Woof Woof! I am a {self.breed}! My name is {self.name}. I am a {self.age}-year-old {self.gender}, with the color of my fur being {self.color}. My weight is {self.weight} pounds, and my height is {self.height} inches tall\")"
   ]
  },
  {
   "cell_type": "code",
   "execution_count": 6,
   "id": "7cffffbe",
   "metadata": {},
   "outputs": [],
   "source": [
    "myDog=Dog(\"Labrador Retriever\",\"Spike\",4,\"Male\",\"Brown\",\"Medium Weight\",\"20-25 cm\",\"No Spots\",\"Loud!\")"
   ]
  },
  {
   "cell_type": "code",
   "execution_count": 7,
   "id": "00e13e6d",
   "metadata": {},
   "outputs": [
    {
     "data": {
      "text/plain": [
       "'Spike'"
      ]
     },
     "execution_count": 7,
     "metadata": {},
     "output_type": "execute_result"
    }
   ],
   "source": [
    "myDog.name"
   ]
  },
  {
   "cell_type": "code",
   "execution_count": 8,
   "id": "61dcb2ef",
   "metadata": {},
   "outputs": [
    {
     "data": {
      "text/plain": [
       "4"
      ]
     },
     "execution_count": 8,
     "metadata": {},
     "output_type": "execute_result"
    }
   ],
   "source": [
    "myDog.age"
   ]
  },
  {
   "cell_type": "code",
   "execution_count": 9,
   "id": "4d10ea9a",
   "metadata": {},
   "outputs": [
    {
     "data": {
      "text/plain": [
       "'Loud!'"
      ]
     },
     "execution_count": 9,
     "metadata": {},
     "output_type": "execute_result"
    }
   ],
   "source": [
    "myDog.bark_volume"
   ]
  },
  {
   "cell_type": "code",
   "execution_count": 10,
   "id": "74e77552",
   "metadata": {},
   "outputs": [
    {
     "name": "stdout",
     "output_type": "stream",
     "text": [
      "Woof Woof! I am a Labrador Retriever! My name is Spike. I am a 4-year-old Male, with the color of my fur being Brown. My weight is Medium Weight pounds, and my height is 20-25 cm inches tall\n"
     ]
    }
   ],
   "source": [
    "myDog.bark()"
   ]
  },
  {
   "cell_type": "code",
   "execution_count": 11,
   "id": "8ebb7e64",
   "metadata": {},
   "outputs": [
    {
     "name": "stdout",
     "output_type": "stream",
     "text": [
      "<__main__.Dog object at 0x000002CB3FCEFC90>\n"
     ]
    }
   ],
   "source": [
    "print(myDog)"
   ]
  },
  {
   "cell_type": "code",
   "execution_count": 12,
   "id": "15c17eaa",
   "metadata": {},
   "outputs": [],
   "source": [
    "class Circle():\n",
    "    pi=3.14\n",
    "    def __init__(self,radius):\n",
    "        self.radius=radius\n",
    "    def perimeter(self):\n",
    "        return 2*self.pi*self.radius\n",
    "    def area(self):\n",
    "  \t    return self.pi*(self.radius**2)"
   ]
  },
  {
   "cell_type": "code",
   "execution_count": 13,
   "id": "d902aeb0",
   "metadata": {},
   "outputs": [
    {
     "name": "stdout",
     "output_type": "stream",
     "text": [
      "The perimeter of the circle is roughly 37.68 units and the area of the circle is roughly 113.04 square units\n"
     ]
    }
   ],
   "source": [
    "sample_circle=Circle(radius=6)\n",
    "print(f\"The perimeter of the circle is roughly {sample_circle.perimeter()} units and the area of the circle is roughly {sample_circle.area()} square units\")"
   ]
  },
  {
   "cell_type": "code",
   "execution_count": null,
   "id": "18d926be",
   "metadata": {},
   "outputs": [],
   "source": []
  },
  {
   "cell_type": "markdown",
   "id": "6e801cf3",
   "metadata": {},
   "source": [
    "<h1>OOP Inheritance and Polymorphism</h1>"
   ]
  },
  {
   "cell_type": "code",
   "execution_count": 2,
   "id": "1410f353",
   "metadata": {},
   "outputs": [],
   "source": [
    "class Animal():\n",
    "    def __init__(self):\n",
    "        print(\"Animal Created!\")\n",
    "\n",
    "    def who_am_i(self):\n",
    "  \t    print(\"I am an animal!\")\n",
    "    def eat(self):\n",
    "        print(\"I am eating\")\n",
    "           "
   ]
  },
  {
   "cell_type": "code",
   "execution_count": 3,
   "id": "69d850c9",
   "metadata": {},
   "outputs": [
    {
     "name": "stdout",
     "output_type": "stream",
     "text": [
      "Animal Created!\n"
     ]
    }
   ],
   "source": [
    "myAnimal=Animal()"
   ]
  },
  {
   "cell_type": "code",
   "execution_count": 4,
   "id": "df35256a",
   "metadata": {},
   "outputs": [],
   "source": [
    "class Cat(Animal):\n",
    "    def __init__(self):\n",
    "        Animal.__init__(self)"
   ]
  },
  {
   "cell_type": "code",
   "execution_count": 5,
   "id": "f32e29e4-95c3-4c05-8873-ef97cfad4d9e",
   "metadata": {},
   "outputs": [
    {
     "name": "stdout",
     "output_type": "stream",
     "text": [
      "Animal Created!\n"
     ]
    }
   ],
   "source": [
    "myCat=Cat()"
   ]
  },
  {
   "cell_type": "code",
   "execution_count": 6,
   "id": "5b25a34a-3bdf-4fda-94b6-66921fbf0f10",
   "metadata": {},
   "outputs": [
    {
     "name": "stdout",
     "output_type": "stream",
     "text": [
      "I am an animal!\n"
     ]
    }
   ],
   "source": [
    "myCat.who_am_i()"
   ]
  },
  {
   "cell_type": "code",
   "execution_count": null,
   "id": "d0578271-1471-4b9b-81c5-31514fb42ec0",
   "metadata": {},
   "outputs": [],
   "source": []
  }
 ],
 "metadata": {
  "kernelspec": {
   "display_name": "Python 3 (ipykernel)",
   "language": "python",
   "name": "python3"
  },
  "language_info": {
   "codemirror_mode": {
    "name": "ipython",
    "version": 3
   },
   "file_extension": ".py",
   "mimetype": "text/x-python",
   "name": "python",
   "nbconvert_exporter": "python",
   "pygments_lexer": "ipython3",
   "version": "3.11.7"
  }
 },
 "nbformat": 4,
 "nbformat_minor": 5
}
