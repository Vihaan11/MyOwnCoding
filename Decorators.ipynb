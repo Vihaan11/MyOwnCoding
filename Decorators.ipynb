{
 "cells": [
  {
   "cell_type": "code",
   "execution_count": 1,
   "id": "a945a74b-23d4-420d-b106-752db44a68c1",
   "metadata": {},
   "outputs": [],
   "source": [
    "def func():\n",
    "    return 1"
   ]
  },
  {
   "cell_type": "code",
   "execution_count": 2,
   "id": "9f8a06db-db39-414b-9ba7-77fc9b6311f1",
   "metadata": {},
   "outputs": [
    {
     "data": {
      "text/plain": [
       "1"
      ]
     },
     "execution_count": 2,
     "metadata": {},
     "output_type": "execute_result"
    }
   ],
   "source": [
    "func()"
   ]
  },
  {
   "cell_type": "code",
   "execution_count": 3,
   "id": "9efa859e-f54d-43d3-b1c3-10771c576400",
   "metadata": {},
   "outputs": [
    {
     "data": {
      "text/plain": [
       "<function __main__.func()>"
      ]
     },
     "execution_count": 3,
     "metadata": {},
     "output_type": "execute_result"
    }
   ],
   "source": [
    "func"
   ]
  },
  {
   "cell_type": "code",
   "execution_count": 5,
   "id": "86a1fb7a-1605-4788-9374-9e1bf7273808",
   "metadata": {},
   "outputs": [],
   "source": [
    "del func"
   ]
  },
  {
   "cell_type": "code",
   "execution_count": 7,
   "id": "44d0f52f-c937-4240-b7f7-1b953f98bde8",
   "metadata": {},
   "outputs": [],
   "source": [
    "def hello():\n",
    "    return \"Hello there\""
   ]
  },
  {
   "cell_type": "code",
   "execution_count": 8,
   "id": "ade68c10-9c2d-4618-b2d3-cead1a928a68",
   "metadata": {},
   "outputs": [],
   "source": [
    "greet=hello"
   ]
  },
  {
   "cell_type": "code",
   "execution_count": 9,
   "id": "098deeba-43a9-4d2b-9943-1370a0e39a4c",
   "metadata": {},
   "outputs": [
    {
     "data": {
      "text/plain": [
       "function"
      ]
     },
     "execution_count": 9,
     "metadata": {},
     "output_type": "execute_result"
    }
   ],
   "source": [
    "type(greet)"
   ]
  },
  {
   "cell_type": "code",
   "execution_count": 10,
   "id": "c2180bae-aeb4-4b13-ba50-c2db2cc79541",
   "metadata": {},
   "outputs": [
    {
     "data": {
      "text/plain": [
       "'Hello there'"
      ]
     },
     "execution_count": 10,
     "metadata": {},
     "output_type": "execute_result"
    }
   ],
   "source": [
    "greet()"
   ]
  },
  {
   "cell_type": "code",
   "execution_count": 11,
   "id": "f27c6a0d-8a69-4f4b-be9f-b10bb38250f1",
   "metadata": {},
   "outputs": [],
   "source": [
    "del hello"
   ]
  },
  {
   "cell_type": "code",
   "execution_count": 12,
   "id": "72ca1694-6ff7-4a67-b0db-2d2bcf9e7f07",
   "metadata": {},
   "outputs": [
    {
     "ename": "NameError",
     "evalue": "name 'hello' is not defined",
     "output_type": "error",
     "traceback": [
      "\u001b[1;31m---------------------------------------------------------------------------\u001b[0m",
      "\u001b[1;31mNameError\u001b[0m                                 Traceback (most recent call last)",
      "Cell \u001b[1;32mIn[12], line 1\u001b[0m\n\u001b[1;32m----> 1\u001b[0m \u001b[43mhello\u001b[49m()\n",
      "\u001b[1;31mNameError\u001b[0m: name 'hello' is not defined"
     ]
    }
   ],
   "source": [
    "hello()"
   ]
  },
  {
   "cell_type": "code",
   "execution_count": 13,
   "id": "9fd47109-afa0-4a13-b94a-8fc9b93b94d8",
   "metadata": {},
   "outputs": [
    {
     "data": {
      "text/plain": [
       "'Hello there'"
      ]
     },
     "execution_count": 13,
     "metadata": {},
     "output_type": "execute_result"
    }
   ],
   "source": [
    "greet()"
   ]
  },
  {
   "cell_type": "code",
   "execution_count": 1,
   "id": "dcef7025-23f3-4109-bc9e-8768f1d3194d",
   "metadata": {},
   "outputs": [],
   "source": [
    "def extra_func(original_func):\n",
    "    def wrap_func():\n",
    "        print(\"This is extra code before the main code\")\n",
    "        original_func()\n",
    "        print(\"This is extra code after the main code\")\n",
    "    return wrap_func()"
   ]
  },
  {
   "cell_type": "code",
   "execution_count": 8,
   "id": "c91d1946-f5ca-4ccb-848b-7ae24b5608f0",
   "metadata": {},
   "outputs": [],
   "source": [
    "# @extra_func\n",
    "def simple_func():\n",
    "    print(\"I want to be decorated!!!\")"
   ]
  },
  {
   "cell_type": "code",
   "execution_count": 9,
   "id": "52e28830-6be4-4d9f-8dc3-e2d5add0e63b",
   "metadata": {},
   "outputs": [
    {
     "name": "stdout",
     "output_type": "stream",
     "text": [
      "This is extra code before the main code\n",
      "I want to be decorated!!!\n",
      "This is extra code after the main code\n"
     ]
    }
   ],
   "source": [
    "extra_func(simple_func)"
   ]
  },
  {
   "cell_type": "code",
   "execution_count": null,
   "id": "d57e2aee-b1a8-4326-a406-d46d5bbcc99a",
   "metadata": {},
   "outputs": [],
   "source": []
  }
 ],
 "metadata": {
  "kernelspec": {
   "display_name": "Python 3 (ipykernel)",
   "language": "python",
   "name": "python3"
  },
  "language_info": {
   "codemirror_mode": {
    "name": "ipython",
    "version": 3
   },
   "file_extension": ".py",
   "mimetype": "text/x-python",
   "name": "python",
   "nbconvert_exporter": "python",
   "pygments_lexer": "ipython3",
   "version": "3.11.7"
  }
 },
 "nbformat": 4,
 "nbformat_minor": 5
}
