{
 "cells": [
  {
   "cell_type": "markdown",
   "id": "38a65542-bad4-4d4d-b5e9-64fafd941d2b",
   "metadata": {},
   "source": [
    "**This is a shuffle game.**"
   ]
  },
  {
   "cell_type": "code",
   "execution_count": 1,
   "id": "0ffed7fd-136e-4fb1-87b6-366764a4a895",
   "metadata": {},
   "outputs": [],
   "source": [
    "from random import shuffle"
   ]
  },
  {
   "cell_type": "code",
   "execution_count": 2,
   "id": "34ecc3aa-3223-483c-939d-cbc85f42f432",
   "metadata": {},
   "outputs": [],
   "source": [
    "def shuffle_list(list):\n",
    "    shuffle(list)\n",
    "    return list"
   ]
  },
  {
   "cell_type": "code",
   "execution_count": 3,
   "id": "9aa8eae5-27d8-4a57-8233-02dc7899b4d9",
   "metadata": {},
   "outputs": [],
   "source": [
    "def player_guess():\n",
    "    guess=\"\"\n",
    "    while guess not in [\"0\",\"1\",\"2\"]:\n",
    "        guess=input(\"Pick a number(0,1 or 2): \")\n",
    "    return int(guess)\n"
   ]
  },
  {
   "cell_type": "code",
   "execution_count": 4,
   "id": "a513faef-be3f-404e-9fe1-7af87f71b357",
   "metadata": {},
   "outputs": [],
   "source": [
    "def check(list0,guess0):\n",
    "    if list0[guess0]=='O':\n",
    "        print('Correct!')\n",
    "    else:\n",
    "        print('Wrong!')\n",
    "        print(list0)"
   ]
  },
  {
   "cell_type": "code",
   "execution_count": 5,
   "id": "cada3cfa-f655-4ce8-8498-43808bd2b327",
   "metadata": {},
   "outputs": [
    {
     "name": "stdin",
     "output_type": "stream",
     "text": [
      "Pick a number(0,1 or 2):  2\n"
     ]
    },
    {
     "name": "stdout",
     "output_type": "stream",
     "text": [
      "Wrong!\n",
      "['O', ' ', ' ']\n"
     ]
    }
   ],
   "source": [
    "#List\n",
    "mylist=[' ',' ','O']\n",
    "#Shuffle list\n",
    "shuffle_list(mylist)\n",
    "#User Guess\n",
    "myguess=player_guess()\n",
    "#Guess Check\n",
    "check(mylist,myguess)"
   ]
  }
 ],
 "metadata": {
  "kernelspec": {
   "display_name": "Python 3 (ipykernel)",
   "language": "python",
   "name": "python3"
  },
  "language_info": {
   "codemirror_mode": {
    "name": "ipython",
    "version": 3
   },
   "file_extension": ".py",
   "mimetype": "text/x-python",
   "name": "python",
   "nbconvert_exporter": "python",
   "pygments_lexer": "ipython3",
   "version": "3.11.7"
  }
 },
 "nbformat": 4,
 "nbformat_minor": 5
}
