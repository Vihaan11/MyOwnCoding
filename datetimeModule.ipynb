{
 "cells": [
  {
   "cell_type": "code",
   "execution_count": 2,
   "id": "10d98a54-1d83-4f4c-9c4f-3526a5b65fa2",
   "metadata": {},
   "outputs": [],
   "source": [
    "from datetime import *"
   ]
  },
  {
   "cell_type": "code",
   "execution_count": 3,
   "id": "b3395626-042b-4a4c-9693-fab2db4e3e71",
   "metadata": {},
   "outputs": [],
   "source": [
    "mytime = time(17,20,51,20)"
   ]
  },
  {
   "cell_type": "code",
   "execution_count": 4,
   "id": "f19487ff-a313-4e06-8a6f-33acf7895e13",
   "metadata": {},
   "outputs": [
    {
     "name": "stdout",
     "output_type": "stream",
     "text": [
      "17:20:51.000020\n"
     ]
    }
   ],
   "source": [
    "print(mytime)"
   ]
  },
  {
   "cell_type": "code",
   "execution_count": 5,
   "id": "1dab1955-73c2-4162-b06a-72f2ae8dfb3d",
   "metadata": {},
   "outputs": [],
   "source": [
    "mydate = date.today()"
   ]
  },
  {
   "cell_type": "code",
   "execution_count": 6,
   "id": "7b9e542a-e2d9-4220-8ec9-caa9ac659541",
   "metadata": {},
   "outputs": [
    {
     "name": "stdout",
     "output_type": "stream",
     "text": [
      "2024-05-31\n"
     ]
    }
   ],
   "source": [
    "print(mydate)"
   ]
  },
  {
   "cell_type": "code",
   "execution_count": 7,
   "id": "e782f550-1c14-415e-b85a-dda6e0457d03",
   "metadata": {},
   "outputs": [],
   "source": [
    "mydate = datetime.today()"
   ]
  },
  {
   "cell_type": "code",
   "execution_count": 8,
   "id": "535dadda-7076-4b95-970a-30a6b3698588",
   "metadata": {},
   "outputs": [
    {
     "name": "stdout",
     "output_type": "stream",
     "text": [
      "2024-05-31 22:27:23.791297\n"
     ]
    }
   ],
   "source": [
    "print(mydate)"
   ]
  },
  {
   "cell_type": "code",
   "execution_count": 9,
   "id": "30ff206a-bedc-49a5-8146-6d1368d51536",
   "metadata": {},
   "outputs": [
    {
     "data": {
      "text/plain": [
       "5"
      ]
     },
     "execution_count": 9,
     "metadata": {},
     "output_type": "execute_result"
    }
   ],
   "source": [
    "mydate.month"
   ]
  },
  {
   "cell_type": "code",
   "execution_count": 10,
   "id": "1a2b3417-fa40-44b9-a115-ced7f8ed6c73",
   "metadata": {},
   "outputs": [
    {
     "data": {
      "text/plain": [
       "31"
      ]
     },
     "execution_count": 10,
     "metadata": {},
     "output_type": "execute_result"
    }
   ],
   "source": [
    "mydate.day"
   ]
  },
  {
   "cell_type": "code",
   "execution_count": 11,
   "id": "ab7b7a69-f284-47f4-91eb-1f12c2a7d317",
   "metadata": {},
   "outputs": [
    {
     "data": {
      "text/plain": [
       "2024"
      ]
     },
     "execution_count": 11,
     "metadata": {},
     "output_type": "execute_result"
    }
   ],
   "source": [
    "mydate.year"
   ]
  },
  {
   "cell_type": "code",
   "execution_count": 12,
   "id": "969637ce-00ae-4275-a889-008a9e078ddc",
   "metadata": {},
   "outputs": [
    {
     "data": {
      "text/plain": [
       "23"
      ]
     },
     "execution_count": 12,
     "metadata": {},
     "output_type": "execute_result"
    }
   ],
   "source": [
    "mydate.second"
   ]
  },
  {
   "cell_type": "code",
   "execution_count": 13,
   "id": "bffb8251-3f44-4635-962b-81dcce7e6604",
   "metadata": {},
   "outputs": [
    {
     "data": {
      "text/plain": [
       "791297"
      ]
     },
     "execution_count": 13,
     "metadata": {},
     "output_type": "execute_result"
    }
   ],
   "source": [
    "mydate.microsecond"
   ]
  },
  {
   "cell_type": "code",
   "execution_count": 14,
   "id": "c18418b3-dfc8-450f-8399-2a3fcd7b82a7",
   "metadata": {},
   "outputs": [
    {
     "data": {
      "text/plain": [
       "'2024-05-31 22:27:23.791297'"
      ]
     },
     "execution_count": 14,
     "metadata": {},
     "output_type": "execute_result"
    }
   ],
   "source": [
    "str(mydate)"
   ]
  },
  {
   "cell_type": "code",
   "execution_count": 29,
   "id": "0beb11a1-3e6c-46ce-ad7f-108a10aacd53",
   "metadata": {},
   "outputs": [
    {
     "data": {
      "text/plain": [
       "'Fri May 31 22:27:23 2024'"
      ]
     },
     "execution_count": 29,
     "metadata": {},
     "output_type": "execute_result"
    }
   ],
   "source": [
    "mydate.ctime()"
   ]
  },
  {
   "cell_type": "code",
   "execution_count": 31,
   "id": "8f05b975-7e36-4412-8b1c-c2edec41edd7",
   "metadata": {},
   "outputs": [],
   "source": [
    "date1=date(2025,1,1)\n",
    "date2=date(2024,1,1)"
   ]
  },
  {
   "cell_type": "code",
   "execution_count": 35,
   "id": "9177943c-0356-463a-bbeb-a270528f58ca",
   "metadata": {},
   "outputs": [],
   "source": [
    "diff=date1-date2"
   ]
  },
  {
   "cell_type": "code",
   "execution_count": 43,
   "id": "a8ae5abc-2728-4fd2-b6b8-6886f406374b",
   "metadata": {},
   "outputs": [
    {
     "data": {
      "text/plain": [
       "31622400.0"
      ]
     },
     "execution_count": 43,
     "metadata": {},
     "output_type": "execute_result"
    }
   ],
   "source": [
    "diff.total_seconds()"
   ]
  },
  {
   "cell_type": "code",
   "execution_count": 49,
   "id": "baa528cb-45c2-4bd3-8def-1a471d6c04d3",
   "metadata": {},
   "outputs": [],
   "source": [
    "date1=datetime(2025,1,1,22)\n",
    "date2=datetime(2024,1,1,12)"
   ]
  },
  {
   "cell_type": "code",
   "execution_count": 53,
   "id": "71040195-6f24-49f9-b551-a312a4058246",
   "metadata": {},
   "outputs": [],
   "source": [
    "diff=date1-date2"
   ]
  },
  {
   "cell_type": "code",
   "execution_count": 55,
   "id": "2d4c732a-40b0-4707-acba-4c7d69cbdf00",
   "metadata": {},
   "outputs": [
    {
     "data": {
      "text/plain": [
       "31658400.0"
      ]
     },
     "execution_count": 55,
     "metadata": {},
     "output_type": "execute_result"
    }
   ],
   "source": [
    "diff.total_seconds()"
   ]
  },
  {
   "cell_type": "code",
   "execution_count": 57,
   "id": "5db24112-4998-4a9e-baa1-80bd4580af04",
   "metadata": {},
   "outputs": [
    {
     "data": {
      "text/plain": [
       "datetime.timedelta(days=366, seconds=36000)"
      ]
     },
     "execution_count": 57,
     "metadata": {},
     "output_type": "execute_result"
    }
   ],
   "source": [
    "diff"
   ]
  },
  {
   "cell_type": "code",
   "execution_count": 63,
   "id": "2a87816e-64d5-4cdf-8528-1bf78ada86d0",
   "metadata": {},
   "outputs": [
    {
     "name": "stdout",
     "output_type": "stream",
     "text": [
      "366 days, 10:00:00\n"
     ]
    }
   ],
   "source": [
    "print(diff)"
   ]
  },
  {
   "cell_type": "code",
   "execution_count": null,
   "id": "0143b8ba-fc80-430f-ba3c-52b8471797a9",
   "metadata": {},
   "outputs": [],
   "source": []
  }
 ],
 "metadata": {
  "kernelspec": {
   "display_name": "Python 3 (ipykernel)",
   "language": "python",
   "name": "python3"
  },
  "language_info": {
   "codemirror_mode": {
    "name": "ipython",
    "version": 3
   },
   "file_extension": ".py",
   "mimetype": "text/x-python",
   "name": "python",
   "nbconvert_exporter": "python",
   "pygments_lexer": "ipython3",
   "version": "3.11.7"
  }
 },
 "nbformat": 4,
 "nbformat_minor": 5
}
