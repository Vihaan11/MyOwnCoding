{
 "cells": [
  {
   "cell_type": "code",
   "id": "0d5474ec-3b59-497b-984a-93817a41730e",
   "metadata": {
    "ExecuteTime": {
     "end_time": "2024-06-05T15:54:05.801749Z",
     "start_time": "2024-06-05T15:54:05.793914Z"
    }
   },
   "source": [
    "x=[1,2,3]\n",
    "y=2\n",
    "z=3"
   ],
   "outputs": [],
   "execution_count": 2
  },
  {
   "cell_type": "code",
   "id": "76c964c8-cbdf-4a1e-b32e-538ffbf659f5",
   "metadata": {
    "ExecuteTime": {
     "end_time": "2024-06-05T15:54:49.622185Z",
     "start_time": "2024-06-05T15:54:49.605658Z"
    }
   },
   "source": [
    "import pdb"
   ],
   "outputs": [],
   "execution_count": 1
  },
  {
   "metadata": {},
   "cell_type": "markdown",
   "source": "",
   "id": "112195cc9ec4dc92"
  },
  {
   "cell_type": "code",
   "execution_count": 14,
   "id": "db1ca2ce-0bb2-4f5b-acd8-5db6b04b0bf6",
   "metadata": {},
   "outputs": [
    {
     "name": "stdout",
     "output_type": "stream",
     "text": [
      "--Return--\n",
      "None\n",
      "> \u001B[1;32mc:\\users\\vihaa\\appdata\\local\\temp\\ipykernel_37548\\1738795093.py\u001B[0m(7)\u001B[0;36m<module>\u001B[1;34m()\u001B[0m\n",
      "\n"
     ]
    },
    {
     "name": "stdin",
     "output_type": "stream",
     "text": [
      "ipdb>  x\n"
     ]
    },
    {
     "name": "stdout",
     "output_type": "stream",
     "text": [
      "[1, 2, 3]\n"
     ]
    },
    {
     "name": "stdin",
     "output_type": "stream",
     "text": [
      "ipdb>  y\n"
     ]
    },
    {
     "name": "stdout",
     "output_type": "stream",
     "text": [
      "2\n"
     ]
    },
    {
     "name": "stdin",
     "output_type": "stream",
     "text": [
      "ipdb>  result1\n"
     ]
    },
    {
     "name": "stdout",
     "output_type": "stream",
     "text": [
      "*** NameError: name 'result1' is not defined\n"
     ]
    },
    {
     "name": "stdin",
     "output_type": "stream",
     "text": [
      "ipdb>  result_one\n"
     ]
    },
    {
     "name": "stdout",
     "output_type": "stream",
     "text": [
      "5\n"
     ]
    },
    {
     "name": "stdin",
     "output_type": "stream",
     "text": [
      "ipdb>  x+y\n"
     ]
    },
    {
     "name": "stdout",
     "output_type": "stream",
     "text": [
      "*** TypeError: can only concatenate list (not \"int\") to list\n"
     ]
    },
    {
     "name": "stdin",
     "output_type": "stream",
     "text": [
      "ipdb>  q\n"
     ]
    }
   ],
   "source": [
    "x=[1,2,3]\n",
    "y=2\n",
    "z=3\n",
    "\n",
    "result_one=y+z\n",
    "\n",
    "pdb.set_trace()\n",
    "\n",
    "result2=x+y"
   ]
  },
  {
   "cell_type": "code",
   "execution_count": null,
   "id": "c27f0907-bf2d-4911-9c15-bbc4be8350ad",
   "metadata": {},
   "outputs": [],
   "source": []
  }
 ],
 "metadata": {
  "kernelspec": {
   "display_name": "Python 3 (ipykernel)",
   "language": "python",
   "name": "python3"
  },
  "language_info": {
   "codemirror_mode": {
    "name": "ipython",
    "version": 3
   },
   "file_extension": ".py",
   "mimetype": "text/x-python",
   "name": "python",
   "nbconvert_exporter": "python",
   "pygments_lexer": "ipython3",
   "version": "3.11.7"
  }
 },
 "nbformat": 4,
 "nbformat_minor": 5
}
